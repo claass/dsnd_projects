{
 "cells": [
  {
   "cell_type": "markdown",
   "metadata": {},
   "source": [
    "# Developing an AI application\n",
    "\n",
    "Going forward, AI algorithms will be incorporated into more and more everyday applications. For example, you might want to include an image classifier in a smart phone app. To do this, you'd use a deep learning model trained on hundreds of thousands of images as part of the overall application architecture. A large part of software development in the future will be using these types of models as common parts of applications. \n",
    "\n",
    "In this project, you'll train an image classifier to recognize different species of flowers. You can imagine using something like this in a phone app that tells you the name of the flower your camera is looking at. In practice you'd train this classifier, then export it for use in your application. We'll be using [this dataset](http://www.robots.ox.ac.uk/~vgg/data/flowers/102/index.html) of 102 flower categories, you can see a few examples below. \n",
    "\n",
    "<img src='assets/Flowers.png' width=500px>\n",
    "\n",
    "The project is broken down into multiple steps:\n",
    "\n",
    "* Load and preprocess the image dataset\n",
    "* Train the image classifier on your dataset\n",
    "* Use the trained classifier to predict image content\n",
    "\n",
    "We'll lead you through each part which you'll implement in Python.\n",
    "\n",
    "When you've completed this project, you'll have an application that can be trained on any set of labeled images. Here your network will be learning about flowers and end up as a command line application. But, what you do with your new skills depends on your imagination and effort in building a dataset. For example, imagine an app where you take a picture of a car, it tells you what the make and model is, then looks up information about it. Go build your own dataset and make something new.\n",
    "\n",
    "First up is importing the packages you'll need. It's good practice to keep all the imports at the beginning of your code. As you work through this notebook and find you need to import a package, make sure to add the import up here."
   ]
  },
  {
   "cell_type": "code",
   "execution_count": 3,
   "metadata": {},
   "outputs": [],
   "source": [
    "# Settings\n",
    "%matplotlib inline\n",
    "%config InlineBackend.figure_format = 'retina'\n",
    "\n",
    "# Utility imports\n",
    "import os\n",
    "import copy\n",
    "import json\n",
    "import time\n",
    "import numpy as np\n",
    "import pandas as pd\n",
    "import matplotlib.pyplot as plt\n",
    "from tqdm import tqdm, tqdm_notebook\n",
    "from PIL import Image\n",
    "from collections import OrderedDict, namedtuple\n",
    "\n",
    "# DL imports\n",
    "import torch\n",
    "from torch import nn\n",
    "from torch import optim\n",
    "import torch.nn.functional as F\n",
    "from torchvision import datasets, transforms, models"
   ]
  },
  {
   "cell_type": "code",
   "execution_count": 4,
   "metadata": {},
   "outputs": [],
   "source": [
    "# Setting the path to the dataset\n",
    "data_dir = 'flowers'"
   ]
  },
  {
   "cell_type": "markdown",
   "metadata": {},
   "source": [
    "## Load the data\n",
    "\n",
    "Here you'll use `torchvision` to load the data ([documentation](http://pytorch.org/docs/0.3.0/torchvision/index.html)). The data should be included alongside this notebook, otherwise you can [download it here](https://s3.amazonaws.com/content.udacity-data.com/nd089/flower_data.tar.gz). The dataset is split into three parts, training, validation, and testing. For the training, you'll want to apply transformations such as random scaling, cropping, and flipping. This will help the network generalize leading to better performance. You'll also need to make sure the input data is resized to 224x224 pixels as required by the pre-trained networks.\n",
    "\n",
    "The validation and testing sets are used to measure the model's performance on data it hasn't seen yet. For this you don't want any scaling or rotation transformations, but you'll need to resize then crop the images to the appropriate size.\n",
    "\n",
    "The pre-trained networks you'll use were trained on the ImageNet dataset where each color channel was normalized separately. For all three sets you'll need to normalize the means and standard deviations of the images to what the network expects. For the means, it's `[0.485, 0.456, 0.406]` and for the standard deviations `[0.229, 0.224, 0.225]`, calculated from the ImageNet images.  These values will shift each color channel to be centered at 0 and range from -1 to 1.\n",
    " "
   ]
  },
  {
   "cell_type": "code",
   "execution_count": 5,
   "metadata": {},
   "outputs": [],
   "source": [
    "def load_data_from_dir(data_dir_path):\n",
    "    \"\"\"\n",
    "    Loads and preprocesses the data. Expects path to a directory\n",
    "    with train, valid, and test subfolders containing class examples.\n",
    "    \n",
    "    Return data dictionary with the preprocessed data.\n",
    "    \"\"\"\n",
    "    \n",
    "    # Creating default data transformations\n",
    "    data_transforms = {\n",
    "        'train':transforms.Compose([transforms.RandomRotation(30),\n",
    "                                    transforms.RandomResizedCrop(224),\n",
    "                                    transforms.RandomHorizontalFlip(),\n",
    "                                    transforms.RandomVerticalFlip(),\n",
    "                                    transforms.ToTensor(),\n",
    "                                    transforms.Normalize([0.485, 0.456, 0.406], \n",
    "                                                         [0.229, 0.224, 0.225])]),\n",
    "        'valid':transforms.Compose([\n",
    "                                    transforms.Resize(255),\n",
    "                                    transforms.CenterCrop(224),\n",
    "                                    transforms.ToTensor(),\n",
    "                                    transforms.Normalize([0.485, 0.456, 0.406], \n",
    "                                                         [0.229, 0.224, 0.225])]),\n",
    "        'test':transforms.Compose([\n",
    "                                    transforms.Resize(255),\n",
    "                                    transforms.CenterCrop(224),\n",
    "                                    transforms.ToTensor(),\n",
    "                                    transforms.Normalize([0.485, 0.456, 0.406], \n",
    "                                                         [0.229, 0.224, 0.225])])\n",
    "    }\n",
    "\n",
    "\n",
    "    # Getting the images\n",
    "    image_datasets = {x: datasets.ImageFolder(os.path.join(data_dir, x),\n",
    "                                              data_transforms[x])\n",
    "                      for x in ['train', 'valid', 'test']}\n",
    "    \n",
    "    # Creating data loaders to serve batches to the model\n",
    "    dataloaders = {x: torch.utils.data.DataLoader(image_datasets[x], batch_size=64,\n",
    "                                                 shuffle=True)\n",
    "                  for x in ['train', 'valid', 'test']}\n",
    "    \n",
    "    # Saving helpful information about the datasets e.g. sizes, class names\n",
    "    dataset_sizes = {x: len(image_datasets[x]) for x in ['train', 'valid', 'test']}\n",
    "    class_names = image_datasets['train'].classes\n",
    "    \n",
    "    # creating a dictionary to return\n",
    "    return {\n",
    "        'data_dir_path':data_dir_path,\n",
    "        'image_datasets':image_datasets, \n",
    "        'dataloaders':dataloaders, \n",
    "        'dataset_sizes':dataset_sizes, \n",
    "        'class_names':class_names\n",
    "    }"
   ]
  },
  {
   "cell_type": "code",
   "execution_count": 6,
   "metadata": {},
   "outputs": [],
   "source": [
    "# Loading the data\n",
    "data = load_data_from_dir(data_dir)"
   ]
  },
  {
   "cell_type": "markdown",
   "metadata": {},
   "source": [
    "### Label mapping\n",
    "\n",
    "You'll also need to load in a mapping from category label to category name. You can find this in the file `cat_to_name.json`. It's a JSON object which you can read in with the [`json` module](https://docs.python.org/2/library/json.html). This will give you a dictionary mapping the integer encoded categories to the actual names of the flowers."
   ]
  },
  {
   "cell_type": "code",
   "execution_count": 7,
   "metadata": {},
   "outputs": [
    {
     "data": {
      "text/plain": [
       "'pink primrose'"
      ]
     },
     "execution_count": 7,
     "metadata": {},
     "output_type": "execute_result"
    }
   ],
   "source": [
    "with open('cat_to_name.json', 'r') as f:\n",
    "    cat_to_name = json.load(f)\n",
    "\n",
    "# inspecting the dictionary\n",
    "cat_to_name['1']"
   ]
  },
  {
   "cell_type": "markdown",
   "metadata": {},
   "source": [
    "# Building and training the classifier\n",
    "\n",
    "Now that the data is ready, it's time to build and train the classifier. As usual, you should use one of the pretrained models from `torchvision.models` to get the image features. Build and train a new feed-forward classifier using those features.\n",
    "\n",
    "We're going to leave this part up to you. If you want to talk through it with someone, chat with your fellow students! You can also ask questions on the forums or join the instructors in office hours.\n",
    "\n",
    "Refer to [the rubric](https://review.udacity.com/#!/rubrics/1663/view) for guidance on successfully completing this section. Things you'll need to do:\n",
    "\n",
    "* Load a [pre-trained network](http://pytorch.org/docs/master/torchvision/models.html) (If you need a starting point, the VGG networks work great and are straightforward to use)\n",
    "* Define a new, untrained feed-forward network as a classifier, using ReLU activations and dropout\n",
    "* Train the classifier layers using backpropagation using the pre-trained network to get the features\n",
    "* Track the loss and accuracy on the validation set to determine the best hyperparameters\n",
    "\n",
    "We've left a cell open for you below, but use as many as you need. Our advice is to break the problem up into smaller parts you can run separately. Check that each part is doing what you expect, then move on to the next. You'll likely find that as you work through each part, you'll need to go back and modify your previous code. This is totally normal!\n",
    "\n",
    "When training make sure you're updating only the weights of the feed-forward network. You should be able to get the validation accuracy above 70% if you build everything right. Make sure to try different hyperparameters (learning rate, units in the classifier, epochs, etc) to find the best model. Save those hyperparameters to use as default values in the next part of the project."
   ]
  },
  {
   "cell_type": "code",
   "execution_count": 8,
   "metadata": {},
   "outputs": [],
   "source": [
    "def load_pretrained_model(arch='resnet18'):\n",
    "    \"\"\"\n",
    "    Loads user specified architecture. \n",
    "    Currently supported:\n",
    "    * resnet18\n",
    "    * resnet152\n",
    "    \"\"\"\n",
    "    \n",
    "    if arch=='resnet18':\n",
    "        model = models.resnet18(pretrained=True) \n",
    "    elif arch=='resnet152':\n",
    "        model = models.resnet152(pretrained=True)                               \n",
    "    else:\n",
    "        raise Exception('Not able to recognize requested model architecture')\n",
    "            \n",
    "    return model\n",
    "\n",
    "\n",
    "def replace_classifier(model, n_classes=102, hidden_units=300):\n",
    "    \"\"\"\n",
    "    Replaces the pretrained model's classifier with a custom\n",
    "    classifier to fit the new dataset\n",
    "    \"\"\"\n",
    "    \n",
    "    # Freezing the pre-trained parameters\n",
    "    for p in model.parameters():\n",
    "        p.requires_grad = False\n",
    "\n",
    "    # Building a new classifier\n",
    "    clf = nn.Sequential(OrderedDict([('fc1', nn.Linear(model.fc.in_features, hidden_units)),\n",
    "                                     ('relu1', nn.ReLU()),\n",
    "                                     ('d1', nn.Dropout(.2)),\n",
    "                                     ('fc2', nn.Linear(hidden_units, hidden_units)),\n",
    "                                     ('relu2', nn.ReLU()),\n",
    "                                     ('d2', nn.Dropout(.2)),\n",
    "                                     ('fc3', nn.Linear(hidden_units, hidden_units)),\n",
    "                                     ('relu3', nn.ReLU()),\n",
    "                                     ('d3', nn.Dropout(.2)),\n",
    "                                     ('fc4', nn.Linear(hidden_units, n_classes)),\n",
    "                                     ('output', nn.LogSoftmax(dim=1))\n",
    "                                    ]))\n",
    "\n",
    "    \n",
    "    # Replacing the old classifier in the pretrained model\n",
    "    model.fc = clf\n",
    "    "
   ]
  },
  {
   "cell_type": "code",
   "execution_count": 18,
   "metadata": {},
   "outputs": [],
   "source": [
    "# Training the model, leaning heavilty on Pytorch's tutorial for transfer learning\n",
    "def train_model(model, optimizer, criterion, data_dict, num_epochs=2, calc_validation=True, device='cuda'):\n",
    "    since = time.time()\n",
    "    phases = ['train','valid'] if calc_validation else ['train']\n",
    "    model.to(device)\n",
    "        \n",
    "    print('*' * 25)\n",
    "    print('Starting training process')\n",
    "    print('*' * 25)\n",
    "\n",
    "    for epoch in tqdm_notebook(range(num_epochs)):\n",
    "        print('\\nEpoch {}/{}'.format(epoch+1, num_epochs))\n",
    "        print('-' * 10)\n",
    "        \n",
    "        for phase in phases:\n",
    "            model.train() if phase=='train' else model.eval() \n",
    "            running_loss = 0\n",
    "            running_corrects = 0 \n",
    "            \n",
    "            print(phase)\n",
    "            \n",
    "            for inputs, labels in tqdm_notebook(data['dataloaders'][phase], leave=False):\n",
    "                \n",
    "                inputs, labels = inputs.to(device), labels.to(device)    # Move training data to device\n",
    "                optimizer.zero_grad()                                    # Setting autograd to zero so it doesn't accumulate\n",
    "\n",
    "                # Forward pass; for performance only use autograd during training\n",
    "                with torch.set_grad_enabled(phase == 'train'):          \n",
    "                    outputs = model.forward(inputs)\n",
    "                    _, preds = torch.max(outputs, 1)\n",
    "                    loss = criterion(outputs, labels)\n",
    "\n",
    "                    # Update the optimizer\n",
    "                    if phase == 'train':\n",
    "                        loss.backward()\n",
    "                        optimizer.step()   \n",
    "\n",
    "                # Update running loss and num_correct for the current batch\n",
    "                running_loss += loss.item() * inputs.size(0)\n",
    "                running_corrects += torch.sum(preds == labels.data)\n",
    "                \n",
    "            # Calculate stats for the current epoch and report to user\n",
    "            epoch_loss = running_loss / data['dataset_sizes'][phase]\n",
    "            epoch_acc = running_corrects.double() / data['dataset_sizes'][phase]\n",
    "            print('{} Loss: {:.4f} Acc: {:.4f}'.format(phase, epoch_loss, epoch_acc))\n",
    "\n",
    "    time_elapsed = time.time() - since\n",
    "    print('Training complete in {:.0f}m {:.0f}s'.format(time_elapsed // 60, time_elapsed % 60))\n",
    "      "
   ]
  },
  {
   "cell_type": "code",
   "execution_count": null,
   "metadata": {},
   "outputs": [],
   "source": [
    "# Initializing the model\n",
    "model = load_pretrained_model('resnet152')\n",
    "replace_classifier(model)"
   ]
  },
  {
   "cell_type": "code",
   "execution_count": null,
   "metadata": {
    "scrolled": true
   },
   "outputs": [],
   "source": [
    "# Initializing criterion and optimizer\n",
    "criterion = nn.NLLLoss()\n",
    "optimizer = optim.Adam(model.fc.parameters(), lr=0.00001)\n",
    "\n",
    "# Starting the training process\n",
    "train_model(model, optimizer, criterion, data, num_epochs=3)\n",
    "save_checkpoint(model, optimizer, criterion, data, 'resnet152', current_version)"
   ]
  },
  {
   "cell_type": "markdown",
   "metadata": {},
   "source": [
    "## Testing your network\n",
    "\n",
    "It's good practice to test your trained network on test data, images the network has never seen either in training or validation. This will give you a good estimate for the model's performance on completely new images. Run the test images through the network and measure the accuracy, the same way you did validation. You should be able to reach around 70% accuracy on the test set if the model has been trained well."
   ]
  },
  {
   "cell_type": "code",
   "execution_count": 22,
   "metadata": {},
   "outputs": [],
   "source": [
    "#  Calculating accuracy on test set\n",
    "def calc_test_accuracy(model, data_dict):\n",
    "    device = torch.device(\"cuda:0\" if torch.cuda.is_available() else \"cpu\")\n",
    "    model.to(device)\n",
    "    model.eval()\n",
    "    \n",
    "    correct = 0\n",
    "    total = 0\n",
    "\n",
    "    with torch.no_grad(): # Turning autograd tracking off \n",
    "\n",
    "        for images, labels in tqdm_notebook(data_dict['dataloaders']['test']):\n",
    "\n",
    "            images, labels = images.to(device), labels.to(device)    # Load images and labels into GPU\n",
    "            outputs = model(images)                                  # Forward prop\n",
    "            _, predicted = torch.max(outputs.data, 1)                # Get the label with the maximum likelihood\n",
    "            total += labels.size(0)                                  # Get the number of processed data points\n",
    "            correct += (predicted == labels).sum().item()            # Get the number of correct classified data points\n",
    "\n",
    "    print('Accuracy of the network on all test images: %d %%' % (100 * correct / total))\n"
   ]
  },
  {
   "cell_type": "code",
   "execution_count": 24,
   "metadata": {},
   "outputs": [
    {
     "data": {
      "application/vnd.jupyter.widget-view+json": {
       "model_id": "c377c0b6e39045eba9b34234fe42d1db",
       "version_major": 2,
       "version_minor": 0
      },
      "text/html": [
       "<p>Failed to display Jupyter Widget of type <code>HBox</code>.</p>\n",
       "<p>\n",
       "  If you're reading this message in the Jupyter Notebook or JupyterLab Notebook, it may mean\n",
       "  that the widgets JavaScript is still loading. If this message persists, it\n",
       "  likely means that the widgets JavaScript library is either not installed or\n",
       "  not enabled. See the <a href=\"https://ipywidgets.readthedocs.io/en/stable/user_install.html\">Jupyter\n",
       "  Widgets Documentation</a> for setup instructions.\n",
       "</p>\n",
       "<p>\n",
       "  If you're reading this message in another frontend (for example, a static\n",
       "  rendering on GitHub or <a href=\"https://nbviewer.jupyter.org/\">NBViewer</a>),\n",
       "  it may mean that your frontend doesn't currently support widgets.\n",
       "</p>\n"
      ],
      "text/plain": [
       "HBox(children=(IntProgress(value=0, max=13), HTML(value='')))"
      ]
     },
     "metadata": {},
     "output_type": "display_data"
    },
    {
     "name": "stdout",
     "output_type": "stream",
     "text": [
      "\n",
      "Accuracy of the network on all test images: 87 %\n"
     ]
    }
   ],
   "source": [
    "calc_test_accuracy(model, data)"
   ]
  },
  {
   "cell_type": "markdown",
   "metadata": {},
   "source": [
    "## Save the checkpoint\n",
    "\n",
    "Now that your network is trained, save the model so you can load it later for making predictions. You probably want to save other things such as the mapping of classes to indices which you get from one of the image datasets: `image_datasets['train'].class_to_idx`. You can attach this to the model as an attribute which makes inference easier later on.\n",
    "\n",
    "```model.class_to_idx = image_datasets['train'].class_to_idx```\n",
    "\n",
    "Remember that you'll want to completely rebuild the model later so you can use it for inference. Make sure to include any information you need in the checkpoint. If you want to load the model and keep training, you'll want to save the number of epochs as well as the optimizer state, `optimizer.state_dict`. You'll likely want to use this trained model in the next part of the project, so best to save it now."
   ]
  },
  {
   "cell_type": "code",
   "execution_count": 27,
   "metadata": {},
   "outputs": [],
   "source": [
    "def save_checkpoint(model, optimizer, criterion, data_dict, arch, current_version):\n",
    "\n",
    "    checkpoint = {'version':version,\n",
    "                  'base_model': arch,\n",
    "                  'classifier': model.fc,\n",
    "                  'class_to_idx': data_dict['class_names'],\n",
    "                  'optimizer': optimizer,\n",
    "                  'criterion': criterion,\n",
    "                  'classifier_state_dict': model.state_dict(),\n",
    "                  'optimizer_state_dict': optimizer.state_dict()}\n",
    "\n",
    "    torch.save(checkpoint, 'checkpoint_{}_v{}.pth'.format(arch, version))"
   ]
  },
  {
   "cell_type": "code",
   "execution_count": 28,
   "metadata": {},
   "outputs": [],
   "source": [
    "save_checkpoint(model, optimizer, criterion, data, 'resnet152', current_version)"
   ]
  },
  {
   "cell_type": "markdown",
   "metadata": {},
   "source": [
    "## Loading the checkpoint\n",
    "\n",
    "At this point it's good to write a function that can load a checkpoint and rebuild the model. That way you can come back to this project and keep working on it without having to retrain the network."
   ]
  },
  {
   "cell_type": "code",
   "execution_count": 11,
   "metadata": {},
   "outputs": [],
   "source": [
    "def load_from_checkpoint(filepath, last_device='cuda:0'):\n",
    "    checkpoint = torch.load(filepath, map_location=last_device)\n",
    "    \n",
    "    # Downloading the basemodel\n",
    "    if checkpoint['base_model'] == 'resnet152':\n",
    "        model = models.resnet152(pretrained=True)\n",
    "        for p in model.parameters():\n",
    "            p.requires_grad = False\n",
    "            \n",
    "    elif checkpoint['base_model'] == 'resnet18':\n",
    "        model = models.resnet18(pretrained=True)\n",
    "        for p in model.parameters():\n",
    "            p.requires_grad = False\n",
    "            \n",
    "    else:\n",
    "        print('Add base model to loading function')\n",
    "    \n",
    "    # Replacing the base model's classifier and updating state dict\n",
    "    model.fc = checkpoint['classifier']\n",
    "    model.load_state_dict(checkpoint['classifier_state_dict'])\n",
    "    \n",
    "    # Adding the class_to_idx dictionary to the model\n",
    "    model.class_to_idx = checkpoint['class_to_idx']\n",
    "    \n",
    "    # Creating the optimizer and updateing state dict\n",
    "    optimizer = checkpoint['optimizer']\n",
    "    optimizer.load_state_dict(checkpoint['optimizer_state_dict'])\n",
    "    \n",
    "    # Creating the criterion used for training\n",
    "    criterion = checkpoint['criterion']\n",
    "    \n",
    "    # Computing the current version of the checkpoint\n",
    "    version = checkpoint['version']+1\n",
    "    \n",
    "    # Return tuple\n",
    "    return model, criterion, optimizer, version\n"
   ]
  },
  {
   "cell_type": "code",
   "execution_count": 21,
   "metadata": {},
   "outputs": [],
   "source": [
    "model, criterion, optimizer, current_version = load_from_checkpoint('checkpoint_resnet152_v2.pth')"
   ]
  },
  {
   "cell_type": "markdown",
   "metadata": {},
   "source": [
    "# Inference for classification\n",
    "\n",
    "Now you'll write a function to use a trained network for inference. That is, you'll pass an image into the network and predict the class of the flower in the image. Write a function called `predict` that takes an image and a model, then returns the top $K$ most likely classes along with the probabilities. It should look like \n",
    "\n",
    "```python\n",
    "probs, classes = predict(image_path, model)\n",
    "print(probs)\n",
    "print(classes)\n",
    "> [ 0.01558163  0.01541934  0.01452626  0.01443549  0.01407339]\n",
    "> ['70', '3', '45', '62', '55']\n",
    "```\n",
    "\n",
    "First you'll need to handle processing the input image such that it can be used in your network. \n",
    "\n",
    "## Image Preprocessing\n",
    "\n",
    "You'll want to use `PIL` to load the image ([documentation](https://pillow.readthedocs.io/en/latest/reference/Image.html)). It's best to write a function that preprocesses the image so it can be used as input for the model. This function should process the images in the same manner used for training. \n",
    "\n",
    "First, resize the images where the shortest side is 256 pixels, keeping the aspect ratio. This can be done with the [`thumbnail`](http://pillow.readthedocs.io/en/3.1.x/reference/Image.html#PIL.Image.Image.thumbnail) or [`resize`](http://pillow.readthedocs.io/en/3.1.x/reference/Image.html#PIL.Image.Image.thumbnail) methods. Then you'll need to crop out the center 224x224 portion of the image.\n",
    "\n",
    "Color channels of images are typically encoded as integers 0-255, but the model expected floats 0-1. You'll need to convert the values. It's easiest with a Numpy array, which you can get from a PIL image like so `np_image = np.array(pil_image)`.\n",
    "\n",
    "As before, the network expects the images to be normalized in a specific way. For the means, it's `[0.485, 0.456, 0.406]` and for the standard deviations `[0.229, 0.224, 0.225]`. You'll want to subtract the means from each color channel, then divide by the standard deviation. \n",
    "\n",
    "And finally, PyTorch expects the color channel to be the first dimension but it's the third dimension in the PIL image and Numpy array. You can reorder dimensions using [`ndarray.transpose`](https://docs.scipy.org/doc/numpy-1.13.0/reference/generated/numpy.ndarray.transpose.html). The color channel needs to be first and retain the order of the other two dimensions."
   ]
  },
  {
   "cell_type": "code",
   "execution_count": null,
   "metadata": {},
   "outputs": [],
   "source": [
    "def process_image(image):\n",
    "    ''' Scales, crops, and normalizes a PIL image for a PyTorch model,\n",
    "        returns an Numpy array\n",
    "    '''\n",
    "    \n",
    "    # Get dimensions for the image\n",
    "    width = image.size[0]\n",
    "    height = image.size[1]\n",
    "\n",
    "    # Resizing the image while keeping aspect ratios intact\n",
    "    proper_size = (256, int(256*height/width)) if width<height else (int(256*width/height), 256)\n",
    "    im_resized = image.resize(proper_size)\n",
    "        \n",
    "    # Center cropping the image\n",
    "    x_center = proper_size[0]/2\n",
    "    y_center = proper_size[1]/2\n",
    "    box = (x_center-112, y_center-112, x_center+112, y_center+112)\n",
    "    im_cropped = im_resized.crop(box)\n",
    "\n",
    "    # Normalize color channels\n",
    "    im_numpy = np.array(im_cropped)/255\n",
    "    \n",
    "    mean = np.array([0.485, 0.456, 0.406])\n",
    "    std = np.array([0.229, 0.224, 0.225])\n",
    "    im_numpy_norm = (im_numpy - mean)/ std\n",
    "    \n",
    "    # Transpose to move color dimesnion first\n",
    "    im_numpy_norm_t = im_numpy_norm.transpose((2, 0, 1))\n",
    "    \n",
    "    return im_numpy_norm_t\n"
   ]
  },
  {
   "cell_type": "markdown",
   "metadata": {},
   "source": [
    "To check your work, the function below converts a PyTorch tensor and displays it in the notebook. If your `process_image` function works, running the output through this function should return the original image (except for the cropped out portions)."
   ]
  },
  {
   "cell_type": "code",
   "execution_count": null,
   "metadata": {},
   "outputs": [],
   "source": [
    "def imshow(image, ax=None, title=None):\n",
    "    \"\"\"Imshow for Tensor.\"\"\"\n",
    "    if ax is None:\n",
    "        fig, ax = plt.subplots()\n",
    "    \n",
    "    # PyTorch tensors assume the color channel is the first dimension\n",
    "    # but matplotlib assumes is the third dimension\n",
    "    image = image.transpose((1, 2, 0))\n",
    "    \n",
    "    # Undo preprocessing\n",
    "    mean = np.array([0.485, 0.456, 0.406])\n",
    "    std = np.array([0.229, 0.224, 0.225])\n",
    "    image = std * image + mean\n",
    "    \n",
    "    # Image needs to be clipped between 0 and 1 or it looks like noise when displayed\n",
    "    image = np.clip(image, 0, 1)\n",
    "    \n",
    "    ax.imshow(image)\n",
    "    \n",
    "    return ax"
   ]
  },
  {
   "cell_type": "code",
   "execution_count": null,
   "metadata": {
    "scrolled": false
   },
   "outputs": [],
   "source": [
    "# Testing image processing function\n",
    "pil_im = Image.open('flowers/train/85/image_04812.jpg') # Wide example\n",
    "# pil_im = Image.open('flowers/train/85/image_04776.jpg') # Tall example\n",
    "\n",
    "print('Original image:')\n",
    "plt.imshow(pil_im)\n",
    "plt.show()\n",
    "\n",
    "print('Processed imaged:')\n",
    "p_im = process_image(pil_im)\n",
    "imshow(p_im)\n",
    "plt.show()\n",
    "\n",
    "print('Checking dimensions:')\n",
    "print(p_im.shape)"
   ]
  },
  {
   "cell_type": "markdown",
   "metadata": {},
   "source": [
    "## Class Prediction\n",
    "\n",
    "Once you can get images in the correct format, it's time to write a function for making predictions with your model. A common practice is to predict the top 5 or so (usually called top-$K$) most probable classes. You'll want to calculate the class probabilities then find the $K$ largest values.\n",
    "\n",
    "To get the top $K$ largest values in a tensor use [`x.topk(k)`](http://pytorch.org/docs/master/torch.html#torch.topk). This method returns both the highest `k` probabilities and the indices of those probabilities corresponding to the classes. You need to convert from these indices to the actual class labels using `class_to_idx` which hopefully you added to the model or from an `ImageFolder` you used to load the data ([see here](#Save-the-checkpoint)). Make sure to invert the dictionary so you get a mapping from index to class as well.\n",
    "\n",
    "Again, this method should take a path to an image and a model checkpoint, then return the probabilities and classes.\n",
    "\n",
    "```python\n",
    "probs, classes = predict(image_path, model)\n",
    "print(probs)\n",
    "print(classes)\n",
    "> [ 0.01558163  0.01541934  0.01452626  0.01443549  0.01407339]\n",
    "> ['70', '3', '45', '62', '55']\n",
    "```"
   ]
  },
  {
   "cell_type": "code",
   "execution_count": null,
   "metadata": {},
   "outputs": [],
   "source": [
    "def predict(image_path, model, topk=5):\n",
    "    ''' Predict the class (or classes) of an image using a trained deep learning model.\n",
    "    '''\n",
    "    device = torch.device(\"cuda:0\" if torch.cuda.is_available() else \"cpu\")\n",
    "    model.to(device)\n",
    "    model.eval()\n",
    "    \n",
    "    # require no autograd for performance\n",
    "    with torch.no_grad():\n",
    "        \n",
    "        pil_im = Image.open(image_path)                   # Load the orginal image\n",
    "        tensor_im = torch.Tensor(process_image(pil_im))   # Change to numpy array and turn into tensor\n",
    "        tensor_im.unsqueeze_(0)                           # Add an additional dimension for batch size\n",
    "        tensor_im = tensor_im.to(device)                  # Move image to GPU\n",
    "        output = model(tensor_im)                         # Do forward prop and save the output\n",
    "        nll, idx = output.topk(topk)                      # Get the k best precitions and loss\n",
    "        nll, idx = nll[0].tolist(), idx[0].tolist()       # Cast to python lists\n",
    "        \n",
    "        # Invert index for lookup\n",
    "        idx_to_class = {v: k for k, v in model.class_to_idx.items()}\n",
    "        classes = [idx_to_class.get(item) for item in idx]\n",
    "        \n",
    "        # calculate probabilities\n",
    "        proba = np.exp(nll)\n",
    "        \n",
    "        return proba, classes\n",
    "  \n",
    "    "
   ]
  },
  {
   "cell_type": "code",
   "execution_count": null,
   "metadata": {},
   "outputs": [],
   "source": [
    "# Testing my function's output\n",
    "probs, classes = predict('flowers/train/85/image_04812.jpg', model)\n",
    "print(probs)\n",
    "print(classes)"
   ]
  },
  {
   "cell_type": "markdown",
   "metadata": {},
   "source": [
    "## Sanity Checking\n",
    "\n",
    "Now that you can use a trained model for predictions, check to make sure it makes sense. Even if the testing accuracy is high, it's always good to check that there aren't obvious bugs. Use `matplotlib` to plot the probabilities for the top 5 classes as a bar graph, along with the input image. It should look like this:\n",
    "\n",
    "<img src='assets/inference_example.png' width=300px>\n",
    "\n",
    "You can convert from the class integer encoding to actual flower names with the `cat_to_name.json` file (should have been loaded earlier in the notebook). To show a PyTorch tensor as an image, use the `imshow` function defined above."
   ]
  },
  {
   "cell_type": "code",
   "execution_count": null,
   "metadata": {},
   "outputs": [],
   "source": [
    "def predict_single_image(image_path, model):  \n",
    "    probs, classes = predict(image_path, model)\n",
    "    class_names = [cat_to_name[i] for i in classes]\n",
    "    df = pd.DataFrame(probs,class_names, columns=['probability'])\n",
    "\n",
    "    pil_im = Image.open(image_path)\n",
    "    process_im = process_image(pil_im)\n",
    "\n",
    "    # Creating subplots\n",
    "    fig, (ax2, ax1) = plt.subplots(1,2, figsize=(7,4))\n",
    "\n",
    "    # Adding image to top plot\n",
    "    imshow(process_im, ax=ax1)\n",
    "    fig.suptitle(class_names[0], y=.95, fontsize=20)\n",
    "    ax1.axis('off')\n",
    "\n",
    "    # Adding probabilities to bottom plot\n",
    "    ax2.set_aspect(1/6)\n",
    "    df.plot.barh(ax=ax2, legend=False)\n",
    "    plt.show()\n"
   ]
  },
  {
   "cell_type": "code",
   "execution_count": null,
   "metadata": {},
   "outputs": [],
   "source": [
    "example_path = 'personal_example.jpg'\n",
    "predict_single_image(example_path, model)"
   ]
  }
 ],
 "metadata": {
  "kernelspec": {
   "display_name": "Python [conda env:dsnd]",
   "language": "python",
   "name": "conda-env-dsnd-py"
  },
  "language_info": {
   "codemirror_mode": {
    "name": "ipython",
    "version": 3
   },
   "file_extension": ".py",
   "mimetype": "text/x-python",
   "name": "python",
   "nbconvert_exporter": "python",
   "pygments_lexer": "ipython3",
   "version": "3.6.6"
  },
  "widgets": {
   "application/vnd.jupyter.widget-state+json": {
    "state": {
     "000743e93db445ff99f14330543e8033": {
      "model_module": "@jupyter-widgets/controls",
      "model_module_version": "1.0.0",
      "model_name": "IntProgressModel",
      "state": {
       "_model_module_version": "1.0.0",
       "_view_module_version": "1.0.0",
       "bar_style": "danger",
       "layout": "IPY_MODEL_0c616beb38374222a636ea4e78c36ca1",
       "max": 1638,
       "style": "IPY_MODEL_5085c7d6c7a648f9a14b233e9bb42f67",
       "value": 18
      }
     },
     "02b181335029421b841be9d86d1d0bf9": {
      "model_module": "@jupyter-widgets/controls",
      "model_module_version": "1.0.0",
      "model_name": "DescriptionStyleModel",
      "state": {
       "_model_module_version": "1.0.0",
       "description_width": ""
      }
     },
     "045cb59fce9b43d4964251c5f88ea813": {
      "model_module": "@jupyter-widgets/controls",
      "model_module_version": "1.0.0",
      "model_name": "HTMLModel",
      "state": {
       "_model_module_version": "1.0.0",
       "_view_module_version": "1.0.0",
       "layout": "IPY_MODEL_c5dfb163be1344b8ab4b216e1f3b4338",
       "style": "IPY_MODEL_6021cc914e084837bae8588462155f33",
       "value": " 18% 287/1638 [00:06&lt;00:29, 46.46it/s]"
      }
     },
     "06221852899b4db484a6ce3149989e38": {
      "model_module": "@jupyter-widgets/controls",
      "model_module_version": "1.0.0",
      "model_name": "IntProgressModel",
      "state": {
       "_model_module_version": "1.0.0",
       "_view_module_version": "1.0.0",
       "layout": "IPY_MODEL_4f4e227095a743a08e11178ba990508d",
       "max": 13,
       "style": "IPY_MODEL_46fb9205d7644cfba54f8debdc598780",
       "value": 13
      }
     },
     "090e2ee8ba8d47a2aa4a27d80c5c202f": {
      "model_module": "@jupyter-widgets/controls",
      "model_module_version": "1.0.0",
      "model_name": "IntProgressModel",
      "state": {
       "_model_module_version": "1.0.0",
       "_view_module_version": "1.0.0",
       "bar_style": "danger",
       "layout": "IPY_MODEL_bed90b8cded34e579b9a49bddbbf8c32",
       "max": 1638,
       "style": "IPY_MODEL_ece30711b44a49dfb2b2aa1c6aa9fa38",
       "value": 4
      }
     },
     "09a8d3337f3c4d6692d71018427a1cd6": {
      "model_module": "@jupyter-widgets/base",
      "model_module_version": "1.0.0",
      "model_name": "LayoutModel",
      "state": {}
     },
     "0c616beb38374222a636ea4e78c36ca1": {
      "model_module": "@jupyter-widgets/base",
      "model_module_version": "1.0.0",
      "model_name": "LayoutModel",
      "state": {}
     },
     "0d1e6f9b8fb94d51a0a5c949c2cf0f2e": {
      "model_module": "@jupyter-widgets/controls",
      "model_module_version": "1.0.0",
      "model_name": "HTMLModel",
      "state": {
       "_model_module_version": "1.0.0",
       "_view_module_version": "1.0.0",
       "layout": "IPY_MODEL_92ce783334e440d785bcb4854b6655af",
       "style": "IPY_MODEL_5b8230c0f27a4eeea7e6433c0dad0784",
       "value": "100% 205/205 [00:04&lt;00:00, 50.64it/s]"
      }
     },
     "102d4b3ba2ad4960b34f8a996e7b2ac7": {
      "model_module": "@jupyter-widgets/base",
      "model_module_version": "1.0.0",
      "model_name": "LayoutModel",
      "state": {}
     },
     "12362999b384474fb263aaff58f8e360": {
      "model_module": "@jupyter-widgets/controls",
      "model_module_version": "1.0.0",
      "model_name": "IntProgressModel",
      "state": {
       "_model_module_version": "1.0.0",
       "_view_module_version": "1.0.0",
       "bar_style": "danger",
       "layout": "IPY_MODEL_3174268040874e7c98769c298e562a2c",
       "max": 103,
       "style": "IPY_MODEL_abe5a91ec9e840918a0e5c5cc486f355",
       "value": 50
      }
     },
     "126cd940e2b643db8385abcd4e3c5936": {
      "model_module": "@jupyter-widgets/controls",
      "model_module_version": "1.0.0",
      "model_name": "HBoxModel",
      "state": {
       "_model_module_version": "1.0.0",
       "_view_module_version": "1.0.0",
       "children": [
        "IPY_MODEL_2ef7604488f74cc3aa57c18739468d36",
        "IPY_MODEL_0d1e6f9b8fb94d51a0a5c949c2cf0f2e"
       ],
       "layout": "IPY_MODEL_c0f1152639394b2a90bd59730c82bb96"
      }
     },
     "1303b8ed325d4d17ae7abf07ad8b60bf": {
      "model_module": "@jupyter-widgets/controls",
      "model_module_version": "1.0.0",
      "model_name": "IntProgressModel",
      "state": {
       "_model_module_version": "1.0.0",
       "_view_module_version": "1.0.0",
       "layout": "IPY_MODEL_7c44d04342194547a63dabf71836f03a",
       "max": 205,
       "style": "IPY_MODEL_e95729a1ec754862b8821402e13d8f3f",
       "value": 204
      }
     },
     "13e7bb28428241cfa060e2e5559caa54": {
      "model_module": "@jupyter-widgets/base",
      "model_module_version": "1.0.0",
      "model_name": "LayoutModel",
      "state": {}
     },
     "14dd826bb38c4271a8719e8a16cefb03": {
      "model_module": "@jupyter-widgets/base",
      "model_module_version": "1.0.0",
      "model_name": "LayoutModel",
      "state": {}
     },
     "1dacb9e00548430aaeaee5a7d3056bf9": {
      "model_module": "@jupyter-widgets/controls",
      "model_module_version": "1.0.0",
      "model_name": "ProgressStyleModel",
      "state": {
       "_model_module_version": "1.0.0",
       "description_width": ""
      }
     },
     "1e779bf6e2c24266990b826421b7b178": {
      "model_module": "@jupyter-widgets/controls",
      "model_module_version": "1.0.0",
      "model_name": "DescriptionStyleModel",
      "state": {
       "_model_module_version": "1.0.0",
       "description_width": ""
      }
     },
     "1fc358bdbd4d4746b2af2c2209a20b2e": {
      "model_module": "@jupyter-widgets/controls",
      "model_module_version": "1.0.0",
      "model_name": "HTMLModel",
      "state": {
       "_model_module_version": "1.0.0",
       "_view_module_version": "1.0.0",
       "layout": "IPY_MODEL_8e97e88aaaa645779ab246d651fd94f2",
       "style": "IPY_MODEL_32467c87ad5847a09091d9dc2207cb84",
       "value": "  0% 1/1638 [00:06&lt;2:44:11,  6.02s/it]"
      }
     },
     "22bc9e05e61042aeb45386e78dddd065": {
      "model_module": "@jupyter-widgets/base",
      "model_module_version": "1.0.0",
      "model_name": "LayoutModel",
      "state": {}
     },
     "2429946ac2284116b2738491d4efdc6b": {
      "model_module": "@jupyter-widgets/base",
      "model_module_version": "1.0.0",
      "model_name": "LayoutModel",
      "state": {}
     },
     "265243b3f0c340669081d49d6502988a": {
      "model_module": "@jupyter-widgets/controls",
      "model_module_version": "1.0.0",
      "model_name": "ProgressStyleModel",
      "state": {
       "_model_module_version": "1.0.0",
       "description_width": ""
      }
     },
     "26a1812e7e5a47c3bfe1cf76293cfa5b": {
      "model_module": "@jupyter-widgets/base",
      "model_module_version": "1.0.0",
      "model_name": "LayoutModel",
      "state": {}
     },
     "2c3ab65c4b1e4362b3a1d909e4654196": {
      "model_module": "@jupyter-widgets/base",
      "model_module_version": "1.0.0",
      "model_name": "LayoutModel",
      "state": {}
     },
     "2ef7604488f74cc3aa57c18739468d36": {
      "model_module": "@jupyter-widgets/controls",
      "model_module_version": "1.0.0",
      "model_name": "IntProgressModel",
      "state": {
       "_model_module_version": "1.0.0",
       "_view_module_version": "1.0.0",
       "layout": "IPY_MODEL_8b21cf8fe4344256a5f7521abeb0a048",
       "max": 205,
       "style": "IPY_MODEL_ee241ab4a1a3407794b00cb21a30173e",
       "value": 205
      }
     },
     "3174268040874e7c98769c298e562a2c": {
      "model_module": "@jupyter-widgets/base",
      "model_module_version": "1.0.0",
      "model_name": "LayoutModel",
      "state": {}
     },
     "32467c87ad5847a09091d9dc2207cb84": {
      "model_module": "@jupyter-widgets/controls",
      "model_module_version": "1.0.0",
      "model_name": "DescriptionStyleModel",
      "state": {
       "_model_module_version": "1.0.0",
       "description_width": ""
      }
     },
     "36802d5e9a32445ab7436f7f3b188832": {
      "model_module": "@jupyter-widgets/base",
      "model_module_version": "1.0.0",
      "model_name": "LayoutModel",
      "state": {}
     },
     "3a511fbdc2204f86b8465507aac165f8": {
      "model_module": "@jupyter-widgets/controls",
      "model_module_version": "1.0.0",
      "model_name": "IntProgressModel",
      "state": {
       "_model_module_version": "1.0.0",
       "_view_module_version": "1.0.0",
       "layout": "IPY_MODEL_ceea73829deb4e57825be9cb180bb3dd",
       "max": 103,
       "style": "IPY_MODEL_eff2c0309f13444b95e9b3a1f38bee0a",
       "value": 103
      }
     },
     "3afc4ec4515a42bba08dbac530f1f34d": {
      "model_module": "@jupyter-widgets/base",
      "model_module_version": "1.0.0",
      "model_name": "LayoutModel",
      "state": {}
     },
     "3e6d9e5a6f694ee986c3d6cb44740d86": {
      "model_module": "@jupyter-widgets/controls",
      "model_module_version": "1.0.0",
      "model_name": "IntProgressModel",
      "state": {
       "_model_module_version": "1.0.0",
       "_view_module_version": "1.0.0",
       "bar_style": "danger",
       "layout": "IPY_MODEL_b746c1b01b9d4579ba5d194e26c35efa",
       "max": 1638,
       "style": "IPY_MODEL_7e4929706fdf4593aa1fefd819ad6622",
       "value": 1
      }
     },
     "402ed7bb647542988b36b7533caecfbb": {
      "model_module": "@jupyter-widgets/controls",
      "model_module_version": "1.0.0",
      "model_name": "HBoxModel",
      "state": {
       "_model_module_version": "1.0.0",
       "_view_module_version": "1.0.0",
       "children": [
        "IPY_MODEL_000743e93db445ff99f14330543e8033",
        "IPY_MODEL_ee54ef08c0ea4549a29cc9ca7ac89a91"
       ],
       "layout": "IPY_MODEL_36802d5e9a32445ab7436f7f3b188832"
      }
     },
     "429636eebc2a46769beefde76977fb9b": {
      "model_module": "@jupyter-widgets/base",
      "model_module_version": "1.0.0",
      "model_name": "LayoutModel",
      "state": {}
     },
     "43d0dbc8a04244128ee77c94780c7ae4": {
      "model_module": "@jupyter-widgets/controls",
      "model_module_version": "1.0.0",
      "model_name": "IntProgressModel",
      "state": {
       "_model_module_version": "1.0.0",
       "_view_module_version": "1.0.0",
       "bar_style": "danger",
       "layout": "IPY_MODEL_6e9487787fec462c85f33a2863a208f3",
       "max": 1638,
       "style": "IPY_MODEL_265243b3f0c340669081d49d6502988a",
       "value": 8
      }
     },
     "44691de6e0e148679ed0bf322972f062": {
      "model_module": "@jupyter-widgets/controls",
      "model_module_version": "1.0.0",
      "model_name": "ProgressStyleModel",
      "state": {
       "_model_module_version": "1.0.0",
       "description_width": ""
      }
     },
     "464c650e4583477a954cdd88f65f3e70": {
      "model_module": "@jupyter-widgets/base",
      "model_module_version": "1.0.0",
      "model_name": "LayoutModel",
      "state": {}
     },
     "46fb9205d7644cfba54f8debdc598780": {
      "model_module": "@jupyter-widgets/controls",
      "model_module_version": "1.0.0",
      "model_name": "ProgressStyleModel",
      "state": {
       "_model_module_version": "1.0.0",
       "description_width": ""
      }
     },
     "4869f0e6c5214b50be691123d43aa07e": {
      "model_module": "@jupyter-widgets/controls",
      "model_module_version": "1.0.0",
      "model_name": "HBoxModel",
      "state": {
       "_model_module_version": "1.0.0",
       "_view_module_version": "1.0.0",
       "children": [
        "IPY_MODEL_a571f6007997494a8b14cf5ccd9fd029",
        "IPY_MODEL_ebb7035d741947efad1d1f4616cb3286"
       ],
       "layout": "IPY_MODEL_bf186e439df845b78f591a1e47e463d7"
      }
     },
     "49d868ec4d87440e96559527a45574f4": {
      "model_module": "@jupyter-widgets/controls",
      "model_module_version": "1.0.0",
      "model_name": "HBoxModel",
      "state": {
       "_model_module_version": "1.0.0",
       "_view_module_version": "1.0.0",
       "children": [
        "IPY_MODEL_dc97115e53ad49c89cced6d99dcafb7e",
        "IPY_MODEL_f84fc2ea30ff4e9f9ccc3ae867f8a503"
       ],
       "layout": "IPY_MODEL_db15a5159a764ac1afc6e2cfac282b81"
      }
     },
     "4abd2d34511e4c4b8294b85a3dfb681b": {
      "model_module": "@jupyter-widgets/controls",
      "model_module_version": "1.0.0",
      "model_name": "DescriptionStyleModel",
      "state": {
       "_model_module_version": "1.0.0",
       "description_width": ""
      }
     },
     "4c9607bd657e4c0a9f566059a60c4e9d": {
      "model_module": "@jupyter-widgets/controls",
      "model_module_version": "1.0.0",
      "model_name": "HBoxModel",
      "state": {
       "_model_module_version": "1.0.0",
       "_view_module_version": "1.0.0",
       "children": [
        "IPY_MODEL_a452489c70804c29b365ab51d2daba3a",
        "IPY_MODEL_045cb59fce9b43d4964251c5f88ea813"
       ],
       "layout": "IPY_MODEL_da5a1942e4224aecb8466e0b2f718d92"
      }
     },
     "4e059da27dca417e8ab93f4ce1a58339": {
      "model_module": "@jupyter-widgets/base",
      "model_module_version": "1.0.0",
      "model_name": "LayoutModel",
      "state": {}
     },
     "4f4e227095a743a08e11178ba990508d": {
      "model_module": "@jupyter-widgets/base",
      "model_module_version": "1.0.0",
      "model_name": "LayoutModel",
      "state": {}
     },
     "5052bbc5d97e4f279307d9b183049b0a": {
      "model_module": "@jupyter-widgets/base",
      "model_module_version": "1.0.0",
      "model_name": "LayoutModel",
      "state": {}
     },
     "507b9e612a9143619421d4ac431374d9": {
      "model_module": "@jupyter-widgets/base",
      "model_module_version": "1.0.0",
      "model_name": "LayoutModel",
      "state": {}
     },
     "5085c7d6c7a648f9a14b233e9bb42f67": {
      "model_module": "@jupyter-widgets/controls",
      "model_module_version": "1.0.0",
      "model_name": "ProgressStyleModel",
      "state": {
       "_model_module_version": "1.0.0",
       "description_width": ""
      }
     },
     "50ba02f416ef4228a89810a7b620f326": {
      "model_module": "@jupyter-widgets/base",
      "model_module_version": "1.0.0",
      "model_name": "LayoutModel",
      "state": {}
     },
     "5255d2ffad8a4ceb9e6b6ac309f6e31d": {
      "model_module": "@jupyter-widgets/base",
      "model_module_version": "1.0.0",
      "model_name": "LayoutModel",
      "state": {}
     },
     "52994fa221384ae997e7ad97f116f87e": {
      "model_module": "@jupyter-widgets/controls",
      "model_module_version": "1.0.0",
      "model_name": "HTMLModel",
      "state": {
       "_model_module_version": "1.0.0",
       "_view_module_version": "1.0.0",
       "layout": "IPY_MODEL_429636eebc2a46769beefde76977fb9b",
       "style": "IPY_MODEL_7e556d463b154bd195edd9d43fb67bca",
       "value": "  0% 4/1638 [00:06&lt;39:50,  1.46s/it]"
      }
     },
     "5608439b39cf442da89bf5b218118cf3": {
      "model_module": "@jupyter-widgets/base",
      "model_module_version": "1.0.0",
      "model_name": "LayoutModel",
      "state": {}
     },
     "59fcb35bb1814f578379f733c5716209": {
      "model_module": "@jupyter-widgets/controls",
      "model_module_version": "1.0.0",
      "model_name": "HBoxModel",
      "state": {
       "_model_module_version": "1.0.0",
       "_view_module_version": "1.0.0",
       "children": [
        "IPY_MODEL_43d0dbc8a04244128ee77c94780c7ae4",
        "IPY_MODEL_c6ef0de131c04563805560bc61c39f0a"
       ],
       "layout": "IPY_MODEL_a87ef236eee24b1698e21e4120d6384c"
      }
     },
     "5b8230c0f27a4eeea7e6433c0dad0784": {
      "model_module": "@jupyter-widgets/controls",
      "model_module_version": "1.0.0",
      "model_name": "DescriptionStyleModel",
      "state": {
       "_model_module_version": "1.0.0",
       "description_width": ""
      }
     },
     "5ddb053a951144b9abd215b1eb30b603": {
      "model_module": "@jupyter-widgets/base",
      "model_module_version": "1.0.0",
      "model_name": "LayoutModel",
      "state": {}
     },
     "5f00a919a04d4d198e1a46a72d0dbd71": {
      "model_module": "@jupyter-widgets/controls",
      "model_module_version": "1.0.0",
      "model_name": "HTMLModel",
      "state": {
       "_model_module_version": "1.0.0",
       "_view_module_version": "1.0.0",
       "layout": "IPY_MODEL_2429946ac2284116b2738491d4efdc6b",
       "style": "IPY_MODEL_94da907901f84fb9ba4921f9d4543a22",
       "value": "  1% 17/1638 [00:11&lt;1:01:04,  2.26s/it]"
      }
     },
     "5fdeb371aa1646bd836e3a19bfae900a": {
      "model_module": "@jupyter-widgets/controls",
      "model_module_version": "1.0.0",
      "model_name": "ProgressStyleModel",
      "state": {
       "_model_module_version": "1.0.0",
       "description_width": ""
      }
     },
     "6021cc914e084837bae8588462155f33": {
      "model_module": "@jupyter-widgets/controls",
      "model_module_version": "1.0.0",
      "model_name": "DescriptionStyleModel",
      "state": {
       "_model_module_version": "1.0.0",
       "description_width": ""
      }
     },
     "63916032958a4f1b901425e69914f96a": {
      "model_module": "@jupyter-widgets/controls",
      "model_module_version": "1.0.0",
      "model_name": "HTMLModel",
      "state": {
       "_model_module_version": "1.0.0",
       "_view_module_version": "1.0.0",
       "layout": "IPY_MODEL_f570f128edd34fa193ac180a162336d0",
       "style": "IPY_MODEL_6dbba1ac40f84019b8c6810d57c7cc17",
       "value": "100% 103/103 [01:10&lt;00:00,  1.69it/s]"
      }
     },
     "63aa5b8b9e8a4b308d5b466223f806ef": {
      "model_module": "@jupyter-widgets/base",
      "model_module_version": "1.0.0",
      "model_name": "LayoutModel",
      "state": {}
     },
     "682c650790c1444b9dff3aa659a5876a": {
      "model_module": "@jupyter-widgets/controls",
      "model_module_version": "1.0.0",
      "model_name": "IntProgressModel",
      "state": {
       "_model_module_version": "1.0.0",
       "_view_module_version": "1.0.0",
       "bar_style": "danger",
       "layout": "IPY_MODEL_13e7bb28428241cfa060e2e5559caa54",
       "max": 1638,
       "style": "IPY_MODEL_93bbcf2c9b374b3ea0e85d82766f699f"
      }
     },
     "6830853df8d24f3b8482166cfbc31836": {
      "model_module": "@jupyter-widgets/base",
      "model_module_version": "1.0.0",
      "model_name": "LayoutModel",
      "state": {}
     },
     "68d9f4b45cf74cb5a1867cae08d74d54": {
      "model_module": "@jupyter-widgets/controls",
      "model_module_version": "1.0.0",
      "model_name": "HTMLModel",
      "state": {
       "_model_module_version": "1.0.0",
       "_view_module_version": "1.0.0",
       "layout": "IPY_MODEL_97c6cefddd9d455cb30065ede676fd03",
       "style": "IPY_MODEL_bc23473ffbd74c67a01c36d2c74759c8",
       "value": " 49% 50/103 [00:35&lt;00:36,  1.45it/s]"
      }
     },
     "697c6733096d49498e2684a08a25a835": {
      "model_module": "@jupyter-widgets/controls",
      "model_module_version": "1.0.0",
      "model_name": "HTMLModel",
      "state": {
       "_model_module_version": "1.0.0",
       "_view_module_version": "1.0.0",
       "layout": "IPY_MODEL_f24c7eac88de4db9a10330c0bac07eb4",
       "style": "IPY_MODEL_4abd2d34511e4c4b8294b85a3dfb681b",
       "value": "100% 1635/1638 [00:35&lt;00:00, 47.43it/s]"
      }
     },
     "6d7750b1bd874d2cbb54d2125083180b": {
      "model_module": "@jupyter-widgets/controls",
      "model_module_version": "1.0.0",
      "model_name": "ProgressStyleModel",
      "state": {
       "_model_module_version": "1.0.0",
       "description_width": ""
      }
     },
     "6dbba1ac40f84019b8c6810d57c7cc17": {
      "model_module": "@jupyter-widgets/controls",
      "model_module_version": "1.0.0",
      "model_name": "DescriptionStyleModel",
      "state": {
       "_model_module_version": "1.0.0",
       "description_width": ""
      }
     },
     "6e9487787fec462c85f33a2863a208f3": {
      "model_module": "@jupyter-widgets/base",
      "model_module_version": "1.0.0",
      "model_name": "LayoutModel",
      "state": {}
     },
     "7017d81611ef4e3d8672d2b94ac47135": {
      "model_module": "@jupyter-widgets/controls",
      "model_module_version": "1.0.0",
      "model_name": "IntProgressModel",
      "state": {
       "_model_module_version": "1.0.0",
       "_view_module_version": "1.0.0",
       "bar_style": "danger",
       "layout": "IPY_MODEL_b619015e025b4f57a11c74e45dc285bf",
       "max": 1638,
       "style": "IPY_MODEL_e6aa2ccafcf4402b868be5fbeb8d2951",
       "value": 17
      }
     },
     "705bec323dc5447692d1bababb02a014": {
      "model_module": "@jupyter-widgets/base",
      "model_module_version": "1.0.0",
      "model_name": "LayoutModel",
      "state": {}
     },
     "722be410c731457886c241be7291d4b5": {
      "model_module": "@jupyter-widgets/controls",
      "model_module_version": "1.0.0",
      "model_name": "ProgressStyleModel",
      "state": {
       "_model_module_version": "1.0.0",
       "description_width": ""
      }
     },
     "74f5dc4431234ba3a7ff38907b1d8ebd": {
      "model_module": "@jupyter-widgets/controls",
      "model_module_version": "1.0.0",
      "model_name": "HBoxModel",
      "state": {
       "_model_module_version": "1.0.0",
       "_view_module_version": "1.0.0",
       "children": [
        "IPY_MODEL_c84322f1ea6c457dbff05234b9a010e0",
        "IPY_MODEL_96190390b85947afbd0bf126af9105a0"
       ],
       "layout": "IPY_MODEL_b0c8d2f23a6640aabb406fa923fef516"
      }
     },
     "7505d660ee8f445c8c295a96142aeeb8": {
      "model_module": "@jupyter-widgets/controls",
      "model_module_version": "1.0.0",
      "model_name": "DescriptionStyleModel",
      "state": {
       "_model_module_version": "1.0.0",
       "description_width": ""
      }
     },
     "7c44d04342194547a63dabf71836f03a": {
      "model_module": "@jupyter-widgets/base",
      "model_module_version": "1.0.0",
      "model_name": "LayoutModel",
      "state": {}
     },
     "7d53cff465d4491895cabf16ed5c8cac": {
      "model_module": "@jupyter-widgets/controls",
      "model_module_version": "1.0.0",
      "model_name": "IntProgressModel",
      "state": {
       "_model_module_version": "1.0.0",
       "_view_module_version": "1.0.0",
       "layout": "IPY_MODEL_102d4b3ba2ad4960b34f8a996e7b2ac7",
       "max": 13,
       "style": "IPY_MODEL_44691de6e0e148679ed0bf322972f062",
       "value": 13
      }
     },
     "7e4929706fdf4593aa1fefd819ad6622": {
      "model_module": "@jupyter-widgets/controls",
      "model_module_version": "1.0.0",
      "model_name": "ProgressStyleModel",
      "state": {
       "_model_module_version": "1.0.0",
       "description_width": ""
      }
     },
     "7e556d463b154bd195edd9d43fb67bca": {
      "model_module": "@jupyter-widgets/controls",
      "model_module_version": "1.0.0",
      "model_name": "DescriptionStyleModel",
      "state": {
       "_model_module_version": "1.0.0",
       "description_width": ""
      }
     },
     "838ffde6a8804eaa94ff6b3d4de34fed": {
      "model_module": "@jupyter-widgets/base",
      "model_module_version": "1.0.0",
      "model_name": "LayoutModel",
      "state": {}
     },
     "85331ca5d9ba4f968b261763f895c8a8": {
      "model_module": "@jupyter-widgets/controls",
      "model_module_version": "1.0.0",
      "model_name": "HTMLModel",
      "state": {
       "_model_module_version": "1.0.0",
       "_view_module_version": "1.0.0",
       "layout": "IPY_MODEL_88259f6f1c46478b9ba695c79bf3a125",
       "style": "IPY_MODEL_7505d660ee8f445c8c295a96142aeeb8",
       "value": "100% 103/103 [01:11&lt;00:00,  1.77it/s]"
      }
     },
     "86a79f3e535d45ff8cb4c2521fc44f69": {
      "model_module": "@jupyter-widgets/controls",
      "model_module_version": "1.0.0",
      "model_name": "HBoxModel",
      "state": {
       "_model_module_version": "1.0.0",
       "_view_module_version": "1.0.0",
       "children": [
        "IPY_MODEL_ae4afa9ba9ab46ba83b5cd552e07e554",
        "IPY_MODEL_b412e6f7a19b416b94d380e83b8fcf2e"
       ],
       "layout": "IPY_MODEL_d7158cdbd7d74ccea5eced2340a520cd"
      }
     },
     "86cf1ffc189143889ba098253027bb78": {
      "model_module": "@jupyter-widgets/controls",
      "model_module_version": "1.0.0",
      "model_name": "DescriptionStyleModel",
      "state": {
       "_model_module_version": "1.0.0",
       "description_width": ""
      }
     },
     "88259f6f1c46478b9ba695c79bf3a125": {
      "model_module": "@jupyter-widgets/base",
      "model_module_version": "1.0.0",
      "model_name": "LayoutModel",
      "state": {}
     },
     "889bbb256e4e42a0b52823f13ace728b": {
      "model_module": "@jupyter-widgets/base",
      "model_module_version": "1.0.0",
      "model_name": "LayoutModel",
      "state": {}
     },
     "8b21cf8fe4344256a5f7521abeb0a048": {
      "model_module": "@jupyter-widgets/base",
      "model_module_version": "1.0.0",
      "model_name": "LayoutModel",
      "state": {}
     },
     "8b4f4e89fa3f4f6cbf5c76dcc591bcaa": {
      "model_module": "@jupyter-widgets/controls",
      "model_module_version": "1.0.0",
      "model_name": "DescriptionStyleModel",
      "state": {
       "_model_module_version": "1.0.0",
       "description_width": ""
      }
     },
     "8e97e88aaaa645779ab246d651fd94f2": {
      "model_module": "@jupyter-widgets/base",
      "model_module_version": "1.0.0",
      "model_name": "LayoutModel",
      "state": {}
     },
     "913c45da43bd43bc88274addee74e738": {
      "model_module": "@jupyter-widgets/base",
      "model_module_version": "1.0.0",
      "model_name": "LayoutModel",
      "state": {}
     },
     "91eb767ee88b47a3841f4082ac2b0bf7": {
      "model_module": "@jupyter-widgets/controls",
      "model_module_version": "1.0.0",
      "model_name": "DescriptionStyleModel",
      "state": {
       "_model_module_version": "1.0.0",
       "description_width": ""
      }
     },
     "92ce783334e440d785bcb4854b6655af": {
      "model_module": "@jupyter-widgets/base",
      "model_module_version": "1.0.0",
      "model_name": "LayoutModel",
      "state": {}
     },
     "92f04bfc1bb94ae784d2656609db534a": {
      "model_module": "@jupyter-widgets/controls",
      "model_module_version": "1.0.0",
      "model_name": "HBoxModel",
      "state": {
       "_model_module_version": "1.0.0",
       "_view_module_version": "1.0.0",
       "children": [
        "IPY_MODEL_7017d81611ef4e3d8672d2b94ac47135",
        "IPY_MODEL_5f00a919a04d4d198e1a46a72d0dbd71"
       ],
       "layout": "IPY_MODEL_913c45da43bd43bc88274addee74e738"
      }
     },
     "93bbcf2c9b374b3ea0e85d82766f699f": {
      "model_module": "@jupyter-widgets/controls",
      "model_module_version": "1.0.0",
      "model_name": "ProgressStyleModel",
      "state": {
       "_model_module_version": "1.0.0",
       "description_width": ""
      }
     },
     "948e78abeb9e4ec1b233c10e10658498": {
      "model_module": "@jupyter-widgets/controls",
      "model_module_version": "1.0.0",
      "model_name": "DescriptionStyleModel",
      "state": {
       "_model_module_version": "1.0.0",
       "description_width": ""
      }
     },
     "94da907901f84fb9ba4921f9d4543a22": {
      "model_module": "@jupyter-widgets/controls",
      "model_module_version": "1.0.0",
      "model_name": "DescriptionStyleModel",
      "state": {
       "_model_module_version": "1.0.0",
       "description_width": ""
      }
     },
     "953de3b18b7b48e194f09cc7da453f65": {
      "model_module": "@jupyter-widgets/controls",
      "model_module_version": "1.0.0",
      "model_name": "IntProgressModel",
      "state": {
       "_model_module_version": "1.0.0",
       "_view_module_version": "1.0.0",
       "bar_style": "danger",
       "layout": "IPY_MODEL_e78a6b428ff64fcbbbc75781e4098bdf",
       "max": 1638,
       "style": "IPY_MODEL_e7bfaf3f5bfd45a49cd0237bf214cadb",
       "value": 10
      }
     },
     "96190390b85947afbd0bf126af9105a0": {
      "model_module": "@jupyter-widgets/controls",
      "model_module_version": "1.0.0",
      "model_name": "HTMLModel",
      "state": {
       "_model_module_version": "1.0.0",
       "_view_module_version": "1.0.0",
       "layout": "IPY_MODEL_4e059da27dca417e8ab93f4ce1a58339",
       "style": "IPY_MODEL_1e779bf6e2c24266990b826421b7b178",
       "value": "  2% 27/1638 [00:42&lt;58:55,  2.19s/it]"
      }
     },
     "96fffec53aab4db5b488ef82ca267520": {
      "model_module": "@jupyter-widgets/controls",
      "model_module_version": "1.0.0",
      "model_name": "HBoxModel",
      "state": {
       "_model_module_version": "1.0.0",
       "_view_module_version": "1.0.0",
       "children": [
        "IPY_MODEL_3a511fbdc2204f86b8465507aac165f8",
        "IPY_MODEL_63916032958a4f1b901425e69914f96a"
       ],
       "layout": "IPY_MODEL_d8de8cc20d104a02b9e4fdf1e240488f"
      }
     },
     "97c6cefddd9d455cb30065ede676fd03": {
      "model_module": "@jupyter-widgets/base",
      "model_module_version": "1.0.0",
      "model_name": "LayoutModel",
      "state": {}
     },
     "9841d9d74f7a45b4966bac534906c639": {
      "model_module": "@jupyter-widgets/controls",
      "model_module_version": "1.0.0",
      "model_name": "HBoxModel",
      "state": {
       "_model_module_version": "1.0.0",
       "_view_module_version": "1.0.0",
       "children": [
        "IPY_MODEL_1303b8ed325d4d17ae7abf07ad8b60bf",
        "IPY_MODEL_a498af7b180047639f012d96a0d7b1ba"
       ],
       "layout": "IPY_MODEL_b16ff0fb3a864ba09b6684f485aac2bf"
      }
     },
     "9f6bb07cfcfa45238cd566dd8edef7fd": {
      "model_module": "@jupyter-widgets/controls",
      "model_module_version": "1.0.0",
      "model_name": "HBoxModel",
      "state": {
       "_model_module_version": "1.0.0",
       "_view_module_version": "1.0.0",
       "children": [
        "IPY_MODEL_da5ecaa3c1c34ae49cc279f9e04be873",
        "IPY_MODEL_697c6733096d49498e2684a08a25a835"
       ],
       "layout": "IPY_MODEL_bb35c25ea72643999d08397c63192ff4"
      }
     },
     "a1039a9d4d2340b0a4f420c75186843d": {
      "model_module": "@jupyter-widgets/controls",
      "model_module_version": "1.0.0",
      "model_name": "IntProgressModel",
      "state": {
       "_model_module_version": "1.0.0",
       "_view_module_version": "1.0.0",
       "bar_style": "danger",
       "layout": "IPY_MODEL_c583728b305946f09ef10098e11b2c7b",
       "max": 1638,
       "style": "IPY_MODEL_5fdeb371aa1646bd836e3a19bfae900a",
       "value": 7
      }
     },
     "a3b0c6e4d90c488fa0d5f9ab8ef084d3": {
      "model_module": "@jupyter-widgets/base",
      "model_module_version": "1.0.0",
      "model_name": "LayoutModel",
      "state": {}
     },
     "a452489c70804c29b365ab51d2daba3a": {
      "model_module": "@jupyter-widgets/controls",
      "model_module_version": "1.0.0",
      "model_name": "IntProgressModel",
      "state": {
       "_model_module_version": "1.0.0",
       "_view_module_version": "1.0.0",
       "bar_style": "danger",
       "layout": "IPY_MODEL_889bbb256e4e42a0b52823f13ace728b",
       "max": 1638,
       "style": "IPY_MODEL_cd2115ecbe47421f97159e93711bd790",
       "value": 287
      }
     },
     "a498af7b180047639f012d96a0d7b1ba": {
      "model_module": "@jupyter-widgets/controls",
      "model_module_version": "1.0.0",
      "model_name": "HTMLModel",
      "state": {
       "_model_module_version": "1.0.0",
       "_view_module_version": "1.0.0",
       "layout": "IPY_MODEL_5ddb053a951144b9abd215b1eb30b603",
       "style": "IPY_MODEL_86cf1ffc189143889ba098253027bb78",
       "value": "100% 204/205 [00:04&lt;00:00, 50.75it/s]"
      }
     },
     "a571f6007997494a8b14cf5ccd9fd029": {
      "model_module": "@jupyter-widgets/controls",
      "model_module_version": "1.0.0",
      "model_name": "IntProgressModel",
      "state": {
       "_model_module_version": "1.0.0",
       "_view_module_version": "1.0.0",
       "bar_style": "danger",
       "layout": "IPY_MODEL_5052bbc5d97e4f279307d9b183049b0a",
       "max": 1638,
       "style": "IPY_MODEL_b9cac9c0ae7a489792f394824689bada",
       "value": 17
      }
     },
     "a81f88a1302c44e7b3c73f55101238d6": {
      "model_module": "@jupyter-widgets/controls",
      "model_module_version": "1.0.0",
      "model_name": "HBoxModel",
      "state": {
       "_model_module_version": "1.0.0",
       "_view_module_version": "1.0.0",
       "children": [
        "IPY_MODEL_a1039a9d4d2340b0a4f420c75186843d",
        "IPY_MODEL_dd6397ce7f294e308333ff074050bda9"
       ],
       "layout": "IPY_MODEL_63aa5b8b9e8a4b308d5b466223f806ef"
      }
     },
     "a87ef236eee24b1698e21e4120d6384c": {
      "model_module": "@jupyter-widgets/base",
      "model_module_version": "1.0.0",
      "model_name": "LayoutModel",
      "state": {}
     },
     "abe5a91ec9e840918a0e5c5cc486f355": {
      "model_module": "@jupyter-widgets/controls",
      "model_module_version": "1.0.0",
      "model_name": "ProgressStyleModel",
      "state": {
       "_model_module_version": "1.0.0",
       "description_width": ""
      }
     },
     "abfbd3205c8543aea9dcbf15daac3c7b": {
      "model_module": "@jupyter-widgets/base",
      "model_module_version": "1.0.0",
      "model_name": "LayoutModel",
      "state": {}
     },
     "ae4afa9ba9ab46ba83b5cd552e07e554": {
      "model_module": "@jupyter-widgets/controls",
      "model_module_version": "1.0.0",
      "model_name": "IntProgressModel",
      "state": {
       "_model_module_version": "1.0.0",
       "_view_module_version": "1.0.0",
       "layout": "IPY_MODEL_bb9a72afdfc44c1fafb8dc1ba9e533b0",
       "max": 1638,
       "style": "IPY_MODEL_6d7750b1bd874d2cbb54d2125083180b",
       "value": 1638
      }
     },
     "b0c8d2f23a6640aabb406fa923fef516": {
      "model_module": "@jupyter-widgets/base",
      "model_module_version": "1.0.0",
      "model_name": "LayoutModel",
      "state": {}
     },
     "b16ff0fb3a864ba09b6684f485aac2bf": {
      "model_module": "@jupyter-widgets/base",
      "model_module_version": "1.0.0",
      "model_name": "LayoutModel",
      "state": {}
     },
     "b391047d41ec4dbd9dee9eaac98119b8": {
      "model_module": "@jupyter-widgets/controls",
      "model_module_version": "1.0.0",
      "model_name": "HBoxModel",
      "state": {
       "_model_module_version": "1.0.0",
       "_view_module_version": "1.0.0",
       "children": [
        "IPY_MODEL_953de3b18b7b48e194f09cc7da453f65",
        "IPY_MODEL_b7106128daa34f3a9a0629e7167a79cc"
       ],
       "layout": "IPY_MODEL_26a1812e7e5a47c3bfe1cf76293cfa5b"
      }
     },
     "b412e6f7a19b416b94d380e83b8fcf2e": {
      "model_module": "@jupyter-widgets/controls",
      "model_module_version": "1.0.0",
      "model_name": "HTMLModel",
      "state": {
       "_model_module_version": "1.0.0",
       "_view_module_version": "1.0.0",
       "layout": "IPY_MODEL_5608439b39cf442da89bf5b218118cf3",
       "style": "IPY_MODEL_c078a0885ea8426baf02037bb5e99c27",
       "value": "100% 1638/1638 [00:35&lt;00:00, 47.17it/s]"
      }
     },
     "b619015e025b4f57a11c74e45dc285bf": {
      "model_module": "@jupyter-widgets/base",
      "model_module_version": "1.0.0",
      "model_name": "LayoutModel",
      "state": {}
     },
     "b7106128daa34f3a9a0629e7167a79cc": {
      "model_module": "@jupyter-widgets/controls",
      "model_module_version": "1.0.0",
      "model_name": "HTMLModel",
      "state": {
       "_model_module_version": "1.0.0",
       "_view_module_version": "1.0.0",
       "layout": "IPY_MODEL_464c650e4583477a954cdd88f65f3e70",
       "style": "IPY_MODEL_8b4f4e89fa3f4f6cbf5c76dcc591bcaa",
       "value": "  1% 10/1638 [00:12&lt;1:00:47,  2.24s/it]"
      }
     },
     "b746c1b01b9d4579ba5d194e26c35efa": {
      "model_module": "@jupyter-widgets/base",
      "model_module_version": "1.0.0",
      "model_name": "LayoutModel",
      "state": {}
     },
     "b7e2e7778d9143db830e64c0a76aa5ed": {
      "model_module": "@jupyter-widgets/controls",
      "model_module_version": "1.0.0",
      "model_name": "HTMLModel",
      "state": {
       "_model_module_version": "1.0.0",
       "_view_module_version": "1.0.0",
       "layout": "IPY_MODEL_abfbd3205c8543aea9dcbf15daac3c7b",
       "style": "IPY_MODEL_ef1c3b42c34049f48c02d9cde50a1edb",
       "value": "  0% 0/1638 [00:00&lt;?, ?it/s]"
      }
     },
     "b7eea1614a60456f83273440f6f93f45": {
      "model_module": "@jupyter-widgets/base",
      "model_module_version": "1.0.0",
      "model_name": "LayoutModel",
      "state": {}
     },
     "b9cac9c0ae7a489792f394824689bada": {
      "model_module": "@jupyter-widgets/controls",
      "model_module_version": "1.0.0",
      "model_name": "ProgressStyleModel",
      "state": {
       "_model_module_version": "1.0.0",
       "description_width": ""
      }
     },
     "ba09849d6ddd43bbb062d8b4d022a2f6": {
      "model_module": "@jupyter-widgets/controls",
      "model_module_version": "1.0.0",
      "model_name": "HBoxModel",
      "state": {
       "_model_module_version": "1.0.0",
       "_view_module_version": "1.0.0",
       "children": [
        "IPY_MODEL_3e6d9e5a6f694ee986c3d6cb44740d86",
        "IPY_MODEL_1fc358bdbd4d4746b2af2c2209a20b2e"
       ],
       "layout": "IPY_MODEL_a3b0c6e4d90c488fa0d5f9ab8ef084d3"
      }
     },
     "ba09f9994f7047afbaa15310479f4e84": {
      "model_module": "@jupyter-widgets/controls",
      "model_module_version": "1.0.0",
      "model_name": "ProgressStyleModel",
      "state": {
       "_model_module_version": "1.0.0",
       "description_width": ""
      }
     },
     "bb35c25ea72643999d08397c63192ff4": {
      "model_module": "@jupyter-widgets/base",
      "model_module_version": "1.0.0",
      "model_name": "LayoutModel",
      "state": {}
     },
     "bb9a72afdfc44c1fafb8dc1ba9e533b0": {
      "model_module": "@jupyter-widgets/base",
      "model_module_version": "1.0.0",
      "model_name": "LayoutModel",
      "state": {}
     },
     "bc23473ffbd74c67a01c36d2c74759c8": {
      "model_module": "@jupyter-widgets/controls",
      "model_module_version": "1.0.0",
      "model_name": "DescriptionStyleModel",
      "state": {
       "_model_module_version": "1.0.0",
       "description_width": ""
      }
     },
     "bed90b8cded34e579b9a49bddbbf8c32": {
      "model_module": "@jupyter-widgets/base",
      "model_module_version": "1.0.0",
      "model_name": "LayoutModel",
      "state": {}
     },
     "bf186e439df845b78f591a1e47e463d7": {
      "model_module": "@jupyter-widgets/base",
      "model_module_version": "1.0.0",
      "model_name": "LayoutModel",
      "state": {}
     },
     "c078a0885ea8426baf02037bb5e99c27": {
      "model_module": "@jupyter-widgets/controls",
      "model_module_version": "1.0.0",
      "model_name": "DescriptionStyleModel",
      "state": {
       "_model_module_version": "1.0.0",
       "description_width": ""
      }
     },
     "c0f1152639394b2a90bd59730c82bb96": {
      "model_module": "@jupyter-widgets/base",
      "model_module_version": "1.0.0",
      "model_name": "LayoutModel",
      "state": {}
     },
     "c424c4d35a524a8881df6fcb7c7f414b": {
      "model_module": "@jupyter-widgets/controls",
      "model_module_version": "1.0.0",
      "model_name": "HBoxModel",
      "state": {
       "_model_module_version": "1.0.0",
       "_view_module_version": "1.0.0",
       "children": [
        "IPY_MODEL_090e2ee8ba8d47a2aa4a27d80c5c202f",
        "IPY_MODEL_52994fa221384ae997e7ad97f116f87e"
       ],
       "layout": "IPY_MODEL_09a8d3337f3c4d6692d71018427a1cd6"
      }
     },
     "c583728b305946f09ef10098e11b2c7b": {
      "model_module": "@jupyter-widgets/base",
      "model_module_version": "1.0.0",
      "model_name": "LayoutModel",
      "state": {}
     },
     "c5dfb163be1344b8ab4b216e1f3b4338": {
      "model_module": "@jupyter-widgets/base",
      "model_module_version": "1.0.0",
      "model_name": "LayoutModel",
      "state": {}
     },
     "c6ef0de131c04563805560bc61c39f0a": {
      "model_module": "@jupyter-widgets/controls",
      "model_module_version": "1.0.0",
      "model_name": "HTMLModel",
      "state": {
       "_model_module_version": "1.0.0",
       "_view_module_version": "1.0.0",
       "layout": "IPY_MODEL_f6f4a2e70ac84f69a54f960c78256fb6",
       "style": "IPY_MODEL_fa0e203aa3f74ca5a33596840e7eadae",
       "value": "  0% 8/1638 [00:21&lt;1:04:29,  2.37s/it]"
      }
     },
     "c84322f1ea6c457dbff05234b9a010e0": {
      "model_module": "@jupyter-widgets/controls",
      "model_module_version": "1.0.0",
      "model_name": "IntProgressModel",
      "state": {
       "_model_module_version": "1.0.0",
       "_view_module_version": "1.0.0",
       "bar_style": "danger",
       "layout": "IPY_MODEL_6830853df8d24f3b8482166cfbc31836",
       "max": 1638,
       "style": "IPY_MODEL_ba09f9994f7047afbaa15310479f4e84",
       "value": 27
      }
     },
     "c888f5d933274eb49c86c5b4cee0f3e2": {
      "model_module": "@jupyter-widgets/controls",
      "model_module_version": "1.0.0",
      "model_name": "DescriptionStyleModel",
      "state": {
       "_model_module_version": "1.0.0",
       "description_width": ""
      }
     },
     "cd2115ecbe47421f97159e93711bd790": {
      "model_module": "@jupyter-widgets/controls",
      "model_module_version": "1.0.0",
      "model_name": "ProgressStyleModel",
      "state": {
       "_model_module_version": "1.0.0",
       "description_width": ""
      }
     },
     "ceea73829deb4e57825be9cb180bb3dd": {
      "model_module": "@jupyter-widgets/base",
      "model_module_version": "1.0.0",
      "model_name": "LayoutModel",
      "state": {}
     },
     "d11829746cba483da0ac47cb0541ff48": {
      "model_module": "@jupyter-widgets/controls",
      "model_module_version": "1.0.0",
      "model_name": "HTMLModel",
      "state": {
       "_model_module_version": "1.0.0",
       "_view_module_version": "1.0.0",
       "layout": "IPY_MODEL_14dd826bb38c4271a8719e8a16cefb03",
       "style": "IPY_MODEL_91eb767ee88b47a3841f4082ac2b0bf7",
       "value": "100% 13/13 [00:09&lt;00:00,  1.41it/s]"
      }
     },
     "d17eb4c93d724d66a9750b6dc9dd14db": {
      "model_module": "@jupyter-widgets/controls",
      "model_module_version": "1.0.0",
      "model_name": "HBoxModel",
      "state": {
       "_model_module_version": "1.0.0",
       "_view_module_version": "1.0.0",
       "children": [
        "IPY_MODEL_e2b130c54b034890b82d27d00e6d694b",
        "IPY_MODEL_85331ca5d9ba4f968b261763f895c8a8"
       ],
       "layout": "IPY_MODEL_507b9e612a9143619421d4ac431374d9"
      }
     },
     "d6a836342bb247c0a5df69ad4bcdeae6": {
      "model_module": "@jupyter-widgets/controls",
      "model_module_version": "1.0.0",
      "model_name": "HBoxModel",
      "state": {
       "_model_module_version": "1.0.0",
       "_view_module_version": "1.0.0",
       "children": [
        "IPY_MODEL_682c650790c1444b9dff3aa659a5876a",
        "IPY_MODEL_b7e2e7778d9143db830e64c0a76aa5ed"
       ],
       "layout": "IPY_MODEL_de10e3da76704093bf06e0a5804d0d92"
      }
     },
     "d7158cdbd7d74ccea5eced2340a520cd": {
      "model_module": "@jupyter-widgets/base",
      "model_module_version": "1.0.0",
      "model_name": "LayoutModel",
      "state": {}
     },
     "d76eab85b2924f11a6b1de14b32c0cf4": {
      "model_module": "@jupyter-widgets/controls",
      "model_module_version": "1.0.0",
      "model_name": "HBoxModel",
      "state": {
       "_model_module_version": "1.0.0",
       "_view_module_version": "1.0.0",
       "children": [
        "IPY_MODEL_06221852899b4db484a6ce3149989e38",
        "IPY_MODEL_e1b2d91f9d4b4331afa37d4b21d07d79"
       ],
       "layout": "IPY_MODEL_faaaf427657042d39d6b765fdcb89deb"
      }
     },
     "d8de8cc20d104a02b9e4fdf1e240488f": {
      "model_module": "@jupyter-widgets/base",
      "model_module_version": "1.0.0",
      "model_name": "LayoutModel",
      "state": {}
     },
     "da5a1942e4224aecb8466e0b2f718d92": {
      "model_module": "@jupyter-widgets/base",
      "model_module_version": "1.0.0",
      "model_name": "LayoutModel",
      "state": {}
     },
     "da5ecaa3c1c34ae49cc279f9e04be873": {
      "model_module": "@jupyter-widgets/controls",
      "model_module_version": "1.0.0",
      "model_name": "IntProgressModel",
      "state": {
       "_model_module_version": "1.0.0",
       "_view_module_version": "1.0.0",
       "layout": "IPY_MODEL_22bc9e05e61042aeb45386e78dddd065",
       "max": 1638,
       "style": "IPY_MODEL_1dacb9e00548430aaeaee5a7d3056bf9",
       "value": 1635
      }
     },
     "db15a5159a764ac1afc6e2cfac282b81": {
      "model_module": "@jupyter-widgets/base",
      "model_module_version": "1.0.0",
      "model_name": "LayoutModel",
      "state": {}
     },
     "db31be352fef4de99e0fa89394b838ae": {
      "model_module": "@jupyter-widgets/base",
      "model_module_version": "1.0.0",
      "model_name": "LayoutModel",
      "state": {}
     },
     "dc97115e53ad49c89cced6d99dcafb7e": {
      "model_module": "@jupyter-widgets/controls",
      "model_module_version": "1.0.0",
      "model_name": "IntProgressModel",
      "state": {
       "_model_module_version": "1.0.0",
       "_view_module_version": "1.0.0",
       "bar_style": "danger",
       "layout": "IPY_MODEL_5255d2ffad8a4ceb9e6b6ac309f6e31d",
       "max": 1638,
       "style": "IPY_MODEL_df83962eeac142559e911a3978f28aed",
       "value": 64
      }
     },
     "dd6397ce7f294e308333ff074050bda9": {
      "model_module": "@jupyter-widgets/controls",
      "model_module_version": "1.0.0",
      "model_name": "HTMLModel",
      "state": {
       "_model_module_version": "1.0.0",
       "_view_module_version": "1.0.0",
       "layout": "IPY_MODEL_fd9fe48f33b148758b548bc2e5ca9ba8",
       "style": "IPY_MODEL_f6cc3c6785d64de5bc3ded1c54482516",
       "value": "  0% 7/1638 [00:12&lt;51:02,  1.88s/it]"
      }
     },
     "de10e3da76704093bf06e0a5804d0d92": {
      "model_module": "@jupyter-widgets/base",
      "model_module_version": "1.0.0",
      "model_name": "LayoutModel",
      "state": {}
     },
     "df83962eeac142559e911a3978f28aed": {
      "model_module": "@jupyter-widgets/controls",
      "model_module_version": "1.0.0",
      "model_name": "ProgressStyleModel",
      "state": {
       "_model_module_version": "1.0.0",
       "description_width": ""
      }
     },
     "e1b2d91f9d4b4331afa37d4b21d07d79": {
      "model_module": "@jupyter-widgets/controls",
      "model_module_version": "1.0.0",
      "model_name": "HTMLModel",
      "state": {
       "_model_module_version": "1.0.0",
       "_view_module_version": "1.0.0",
       "layout": "IPY_MODEL_3afc4ec4515a42bba08dbac530f1f34d",
       "style": "IPY_MODEL_feb0d5df773a45ca84d0d708c3c2daf7",
       "value": "100% 13/13 [00:09&lt;00:00,  1.45it/s]"
      }
     },
     "e2b130c54b034890b82d27d00e6d694b": {
      "model_module": "@jupyter-widgets/controls",
      "model_module_version": "1.0.0",
      "model_name": "IntProgressModel",
      "state": {
       "_model_module_version": "1.0.0",
       "_view_module_version": "1.0.0",
       "layout": "IPY_MODEL_db31be352fef4de99e0fa89394b838ae",
       "max": 103,
       "style": "IPY_MODEL_722be410c731457886c241be7291d4b5",
       "value": 103
      }
     },
     "e397a084498542c491283efbe572f500": {
      "model_module": "@jupyter-widgets/controls",
      "model_module_version": "1.0.0",
      "model_name": "HBoxModel",
      "state": {
       "_model_module_version": "1.0.0",
       "_view_module_version": "1.0.0",
       "children": [
        "IPY_MODEL_12362999b384474fb263aaff58f8e360",
        "IPY_MODEL_68d9f4b45cf74cb5a1867cae08d74d54"
       ],
       "layout": "IPY_MODEL_838ffde6a8804eaa94ff6b3d4de34fed"
      }
     },
     "e6aa2ccafcf4402b868be5fbeb8d2951": {
      "model_module": "@jupyter-widgets/controls",
      "model_module_version": "1.0.0",
      "model_name": "ProgressStyleModel",
      "state": {
       "_model_module_version": "1.0.0",
       "description_width": ""
      }
     },
     "e78a6b428ff64fcbbbc75781e4098bdf": {
      "model_module": "@jupyter-widgets/base",
      "model_module_version": "1.0.0",
      "model_name": "LayoutModel",
      "state": {}
     },
     "e7bfaf3f5bfd45a49cd0237bf214cadb": {
      "model_module": "@jupyter-widgets/controls",
      "model_module_version": "1.0.0",
      "model_name": "ProgressStyleModel",
      "state": {
       "_model_module_version": "1.0.0",
       "description_width": ""
      }
     },
     "e95729a1ec754862b8821402e13d8f3f": {
      "model_module": "@jupyter-widgets/controls",
      "model_module_version": "1.0.0",
      "model_name": "ProgressStyleModel",
      "state": {
       "_model_module_version": "1.0.0",
       "description_width": ""
      }
     },
     "ebb7035d741947efad1d1f4616cb3286": {
      "model_module": "@jupyter-widgets/controls",
      "model_module_version": "1.0.0",
      "model_name": "HTMLModel",
      "state": {
       "_model_module_version": "1.0.0",
       "_view_module_version": "1.0.0",
       "layout": "IPY_MODEL_50ba02f416ef4228a89810a7b620f326",
       "style": "IPY_MODEL_948e78abeb9e4ec1b233c10e10658498",
       "value": "  1% 17/1638 [00:15&lt;41:48,  1.55s/it]"
      }
     },
     "ece30711b44a49dfb2b2aa1c6aa9fa38": {
      "model_module": "@jupyter-widgets/controls",
      "model_module_version": "1.0.0",
      "model_name": "ProgressStyleModel",
      "state": {
       "_model_module_version": "1.0.0",
       "description_width": ""
      }
     },
     "ee241ab4a1a3407794b00cb21a30173e": {
      "model_module": "@jupyter-widgets/controls",
      "model_module_version": "1.0.0",
      "model_name": "ProgressStyleModel",
      "state": {
       "_model_module_version": "1.0.0",
       "description_width": ""
      }
     },
     "ee54ef08c0ea4549a29cc9ca7ac89a91": {
      "model_module": "@jupyter-widgets/controls",
      "model_module_version": "1.0.0",
      "model_name": "HTMLModel",
      "state": {
       "_model_module_version": "1.0.0",
       "_view_module_version": "1.0.0",
       "layout": "IPY_MODEL_2c3ab65c4b1e4362b3a1d909e4654196",
       "style": "IPY_MODEL_02b181335029421b841be9d86d1d0bf9",
       "value": "  1% 18/1638 [00:21&lt;1:28:44,  3.29s/it]"
      }
     },
     "ef1c3b42c34049f48c02d9cde50a1edb": {
      "model_module": "@jupyter-widgets/controls",
      "model_module_version": "1.0.0",
      "model_name": "DescriptionStyleModel",
      "state": {
       "_model_module_version": "1.0.0",
       "description_width": ""
      }
     },
     "eff2c0309f13444b95e9b3a1f38bee0a": {
      "model_module": "@jupyter-widgets/controls",
      "model_module_version": "1.0.0",
      "model_name": "ProgressStyleModel",
      "state": {
       "_model_module_version": "1.0.0",
       "description_width": ""
      }
     },
     "f24c7eac88de4db9a10330c0bac07eb4": {
      "model_module": "@jupyter-widgets/base",
      "model_module_version": "1.0.0",
      "model_name": "LayoutModel",
      "state": {}
     },
     "f570f128edd34fa193ac180a162336d0": {
      "model_module": "@jupyter-widgets/base",
      "model_module_version": "1.0.0",
      "model_name": "LayoutModel",
      "state": {}
     },
     "f6cc3c6785d64de5bc3ded1c54482516": {
      "model_module": "@jupyter-widgets/controls",
      "model_module_version": "1.0.0",
      "model_name": "DescriptionStyleModel",
      "state": {
       "_model_module_version": "1.0.0",
       "description_width": ""
      }
     },
     "f6f4a2e70ac84f69a54f960c78256fb6": {
      "model_module": "@jupyter-widgets/base",
      "model_module_version": "1.0.0",
      "model_name": "LayoutModel",
      "state": {}
     },
     "f84fc2ea30ff4e9f9ccc3ae867f8a503": {
      "model_module": "@jupyter-widgets/controls",
      "model_module_version": "1.0.0",
      "model_name": "HTMLModel",
      "state": {
       "_model_module_version": "1.0.0",
       "_view_module_version": "1.0.0",
       "layout": "IPY_MODEL_b7eea1614a60456f83273440f6f93f45",
       "style": "IPY_MODEL_c888f5d933274eb49c86c5b4cee0f3e2",
       "value": "  4% 64/1638 [01:48&lt;57:03,  2.18s/it]"
      }
     },
     "fa0e203aa3f74ca5a33596840e7eadae": {
      "model_module": "@jupyter-widgets/controls",
      "model_module_version": "1.0.0",
      "model_name": "DescriptionStyleModel",
      "state": {
       "_model_module_version": "1.0.0",
       "description_width": ""
      }
     },
     "faaaf427657042d39d6b765fdcb89deb": {
      "model_module": "@jupyter-widgets/base",
      "model_module_version": "1.0.0",
      "model_name": "LayoutModel",
      "state": {}
     },
     "fd9fe48f33b148758b548bc2e5ca9ba8": {
      "model_module": "@jupyter-widgets/base",
      "model_module_version": "1.0.0",
      "model_name": "LayoutModel",
      "state": {}
     },
     "feb0d5df773a45ca84d0d708c3c2daf7": {
      "model_module": "@jupyter-widgets/controls",
      "model_module_version": "1.0.0",
      "model_name": "DescriptionStyleModel",
      "state": {
       "_model_module_version": "1.0.0",
       "description_width": ""
      }
     },
     "fff05d4251164923b1e77312a94a7500": {
      "model_module": "@jupyter-widgets/controls",
      "model_module_version": "1.0.0",
      "model_name": "HBoxModel",
      "state": {
       "_model_module_version": "1.0.0",
       "_view_module_version": "1.0.0",
       "children": [
        "IPY_MODEL_7d53cff465d4491895cabf16ed5c8cac",
        "IPY_MODEL_d11829746cba483da0ac47cb0541ff48"
       ],
       "layout": "IPY_MODEL_705bec323dc5447692d1bababb02a014"
      }
     }
    },
    "version_major": 2,
    "version_minor": 0
   }
  }
 },
 "nbformat": 4,
 "nbformat_minor": 2
}
